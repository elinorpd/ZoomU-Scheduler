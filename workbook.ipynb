{
 "cells": [
  {
   "cell_type": "code",
   "execution_count": 2,
   "metadata": {},
   "outputs": [],
   "source": [
    "from apiclient.discovery import build\n",
    "from google_auth_oauthlib.flow import InstalledAppFlow"
   ]
  },
  {
   "cell_type": "code",
   "execution_count": 120,
   "metadata": {},
   "outputs": [],
   "source": [
    "from datetime import datetime as dt\n",
    "import pytz"
   ]
  },
  {
   "cell_type": "code",
   "execution_count": 3,
   "metadata": {},
   "outputs": [],
   "source": [
    "scopes = ['https://www.googleapis.com/auth/calendar']"
   ]
  },
  {
   "cell_type": "code",
   "execution_count": 7,
   "metadata": {},
   "outputs": [],
   "source": [
    "flow = InstalledAppFlow.from_client_secrets_file(\"masha_credentials.json\", scopes=scopes)"
   ]
  },
  {
   "cell_type": "code",
   "execution_count": 8,
   "metadata": {},
   "outputs": [
    {
     "name": "stdout",
     "output_type": "stream",
     "text": [
      "Please visit this URL to authorize this application: https://accounts.google.com/o/oauth2/auth?response_type=code&client_id=358671830953-l2k1p6h7ggf001gnd7hpgamnsephnut7.apps.googleusercontent.com&redirect_uri=urn%3Aietf%3Awg%3Aoauth%3A2.0%3Aoob&scope=https%3A%2F%2Fwww.googleapis.com%2Fauth%2Fcalendar&state=jfuFjVqCTEJPr14k4aJ7vGkngmRpiL&prompt=consent&access_type=offline\n",
      "Enter the authorization code: 4/4QE6TZRnV9T2T1aBQK62iWelQuIxdT-XGxBbCJWYiuNaNGnt7YuB9Es\n"
     ]
    }
   ],
   "source": [
    "credentials = flow.run_console()"
   ]
  },
  {
   "cell_type": "code",
   "execution_count": 4,
   "metadata": {},
   "outputs": [],
   "source": [
    "import pickle"
   ]
  },
  {
   "cell_type": "code",
   "execution_count": null,
   "metadata": {},
   "outputs": [],
   "source": [
    "pickle.dump(credentials, open(\"token.pkl\", \"wb\"))"
   ]
  },
  {
   "cell_type": "code",
   "execution_count": 5,
   "metadata": {},
   "outputs": [],
   "source": [
    "#next time\n",
    "credentials = pickle.load(open(\"token.pkl\", \"rb\"))"
   ]
  },
  {
   "cell_type": "code",
   "execution_count": 9,
   "metadata": {},
   "outputs": [],
   "source": [
    "service = build(\"calendar\", \"v3\", credentials=credentials)"
   ]
  },
  {
   "cell_type": "code",
   "execution_count": 10,
   "metadata": {},
   "outputs": [],
   "source": [
    "cal_result = service.calendarList().list().execute()"
   ]
  },
  {
   "cell_type": "code",
   "execution_count": 11,
   "metadata": {},
   "outputs": [
    {
     "data": {
      "text/plain": [
       "[{'kind': 'calendar#calendarListEntry',\n",
       "  'etag': '\"1600527800393000\"',\n",
       "  'id': 'masha.geo@gmail.com',\n",
       "  'summary': 'masha.geo@gmail.com',\n",
       "  'timeZone': 'America/New_York',\n",
       "  'colorId': '15',\n",
       "  'backgroundColor': '#9fc6e7',\n",
       "  'foregroundColor': '#000000',\n",
       "  'selected': True,\n",
       "  'accessRole': 'owner',\n",
       "  'defaultReminders': [],\n",
       "  'notificationSettings': {'notifications': [{'type': 'eventCreation',\n",
       "     'method': 'email'},\n",
       "    {'type': 'eventChange', 'method': 'email'},\n",
       "    {'type': 'eventCancellation', 'method': 'email'},\n",
       "    {'type': 'eventResponse', 'method': 'email'}]},\n",
       "  'primary': True,\n",
       "  'conferenceProperties': {'allowedConferenceSolutionTypes': ['hangoutsMeet']}},\n",
       " {'kind': 'calendar#calendarListEntry',\n",
       "  'etag': '\"1598894678999000\"',\n",
       "  'id': 'nytimes.com_89ai4ijpb733gt28rg21d2c2ek@group.calendar.google.com',\n",
       "  'summary': 'NYT Astronomy and Space Calendar',\n",
       "  'description': \"Never miss an eclipse, a meteor shower, a rocket launch or any other astronomical and space event that's out of this world.\",\n",
       "  'timeZone': 'America/New_York',\n",
       "  'colorId': '5',\n",
       "  'backgroundColor': '#ff7537',\n",
       "  'foregroundColor': '#000000',\n",
       "  'accessRole': 'reader',\n",
       "  'defaultReminders': [],\n",
       "  'conferenceProperties': {'allowedConferenceSolutionTypes': ['eventNamedHangout']}},\n",
       " {'kind': 'calendar#calendarListEntry',\n",
       "  'etag': '\"1600511052866000\"',\n",
       "  'id': 'rscj04naeuf0iie09610jm0550@group.calendar.google.com',\n",
       "  'summary': 'Classes',\n",
       "  'timeZone': 'America/New_York',\n",
       "  'colorId': '10',\n",
       "  'backgroundColor': '#b3dc6c',\n",
       "  'foregroundColor': '#000000',\n",
       "  'accessRole': 'owner',\n",
       "  'defaultReminders': [],\n",
       "  'conferenceProperties': {'allowedConferenceSolutionTypes': ['hangoutsMeet']}},\n",
       " {'kind': 'calendar#calendarListEntry',\n",
       "  'etag': '\"1598927212381000\"',\n",
       "  'id': 'up8e4vhovj6210vlbkn1vka3h0@group.calendar.google.com',\n",
       "  'summary': 'Summer',\n",
       "  'description': \"Could you tell me when and where you'll be out of town over the summer? I'd like to know so that we might be able to see each other over the summer. You can add anybody else onto this calendar if you want. Thanks!\\n\\nPlease do this, otherwise I... never mind.\",\n",
       "  'timeZone': 'America/New_York',\n",
       "  'colorId': '13',\n",
       "  'backgroundColor': '#92e1c0',\n",
       "  'foregroundColor': '#000000',\n",
       "  'accessRole': 'owner',\n",
       "  'defaultReminders': [],\n",
       "  'conferenceProperties': {'allowedConferenceSolutionTypes': ['hangoutsMeet']}},\n",
       " {'kind': 'calendar#calendarListEntry',\n",
       "  'etag': '\"1598927212381000\"',\n",
       "  'id': 'family08955277269003271527@group.calendar.google.com',\n",
       "  'summary': 'Family',\n",
       "  'timeZone': 'UTC',\n",
       "  'colorId': '4',\n",
       "  'backgroundColor': '#fa573c',\n",
       "  'foregroundColor': '#000000',\n",
       "  'accessRole': 'writer',\n",
       "  'defaultReminders': [{'method': 'popup', 'minutes': 10},\n",
       "   {'method': 'email', 'minutes': 10}],\n",
       "  'conferenceProperties': {'allowedConferenceSolutionTypes': ['hangoutsMeet']}},\n",
       " {'kind': 'calendar#calendarListEntry',\n",
       "  'etag': '\"1600511055061000\"',\n",
       "  'id': '129q9le5mp6ijeo7f7t9nb8coo@group.calendar.google.com',\n",
       "  'summary': 'HackMIT 2020',\n",
       "  'timeZone': 'America/New_York',\n",
       "  'colorId': '15',\n",
       "  'backgroundColor': '#9fc6e7',\n",
       "  'foregroundColor': '#000000',\n",
       "  'accessRole': 'reader',\n",
       "  'defaultReminders': [],\n",
       "  'conferenceProperties': {'allowedConferenceSolutionTypes': ['hangoutsMeet']}},\n",
       " {'kind': 'calendar#calendarListEntry',\n",
       "  'etag': '\"1598895470614000\"',\n",
       "  'id': 's3jmp6jl18a8dse7aut88jv6765ffru3@import.calendar.google.com',\n",
       "  'summary': 'https://registrar.mit.edu/calendar-ical/current/93/all/calendar.ics',\n",
       "  'timeZone': 'UTC',\n",
       "  'colorId': '18',\n",
       "  'backgroundColor': '#b99aff',\n",
       "  'foregroundColor': '#000000',\n",
       "  'accessRole': 'reader',\n",
       "  'defaultReminders': [],\n",
       "  'conferenceProperties': {'allowedConferenceSolutionTypes': ['hangoutsMeet']}},\n",
       " {'kind': 'calendar#calendarListEntry',\n",
       "  'etag': '\"1598927212381000\"',\n",
       "  'id': 'addressbook#contacts@group.v.calendar.google.com',\n",
       "  'summary': 'Contacts',\n",
       "  'timeZone': 'America/New_York',\n",
       "  'summaryOverride': 'Contacts',\n",
       "  'colorId': '9',\n",
       "  'backgroundColor': '#7bd148',\n",
       "  'foregroundColor': '#000000',\n",
       "  'accessRole': 'reader',\n",
       "  'defaultReminders': [],\n",
       "  'conferenceProperties': {'allowedConferenceSolutionTypes': ['hangoutsMeet']}},\n",
       " {'kind': 'calendar#calendarListEntry',\n",
       "  'etag': '\"1598927212381000\"',\n",
       "  'id': 'en.usa#holiday@group.v.calendar.google.com',\n",
       "  'summary': 'Holidays in United States',\n",
       "  'timeZone': 'America/New_York',\n",
       "  'colorId': '7',\n",
       "  'backgroundColor': '#42d692',\n",
       "  'foregroundColor': '#000000',\n",
       "  'accessRole': 'reader',\n",
       "  'defaultReminders': [],\n",
       "  'conferenceProperties': {'allowedConferenceSolutionTypes': ['hangoutsMeet']}},\n",
       " {'kind': 'calendar#calendarListEntry',\n",
       "  'etag': '\"1598927212381000\"',\n",
       "  'id': 'ru.russian#holiday@group.v.calendar.google.com',\n",
       "  'summary': 'Праздники РФ',\n",
       "  'timeZone': 'America/New_York',\n",
       "  'colorId': '12',\n",
       "  'backgroundColor': '#fad165',\n",
       "  'foregroundColor': '#000000',\n",
       "  'accessRole': 'reader',\n",
       "  'defaultReminders': [],\n",
       "  'conferenceProperties': {'allowedConferenceSolutionTypes': ['hangoutsMeet']}},\n",
       " {'kind': 'calendar#calendarListEntry',\n",
       "  'etag': '\"0\"',\n",
       "  'id': 'p#weather@group.v.calendar.google.com',\n",
       "  'summary': 'Weather',\n",
       "  'timeZone': 'America/New_York',\n",
       "  'colorId': '4',\n",
       "  'backgroundColor': '#fa573c',\n",
       "  'foregroundColor': '#000000',\n",
       "  'selected': True,\n",
       "  'accessRole': 'reader',\n",
       "  'defaultReminders': [],\n",
       "  'conferenceProperties': {'allowedConferenceSolutionTypes': ['hangoutsMeet']}}]"
      ]
     },
     "execution_count": 11,
     "metadata": {},
     "output_type": "execute_result"
    }
   ],
   "source": [
    "cal_result['items']"
   ]
  },
  {
   "cell_type": "code",
   "execution_count": 12,
   "metadata": {},
   "outputs": [
    {
     "name": "stdout",
     "output_type": "stream",
     "text": [
      "0 masha.geo@gmail.com\n",
      "1 NYT Astronomy and Space Calendar\n",
      "2 Classes\n",
      "3 Summer\n",
      "4 Family\n",
      "5 HackMIT 2020\n",
      "6 https://registrar.mit.edu/calendar-ical/current/93/all/calendar.ics\n",
      "7 Contacts\n",
      "8 Holidays in United States\n",
      "9 Праздники РФ\n",
      "10 Weather\n",
      "\n",
      "Which of these calendars would you like to use? (number) 2\n"
     ]
    }
   ],
   "source": [
    "cnt = 0\n",
    "calendar_list = []\n",
    "for i in cal_result['items']:\n",
    "    calendar_list.append(i['summary'])\n",
    "for i in calendar_list:\n",
    "    print(cnt, i)\n",
    "    cnt +=1\n",
    "calendar_choice = int(input(\"\\nWhich of these calendars would you like to use? (number) \"))"
   ]
  },
  {
   "cell_type": "code",
   "execution_count": 106,
   "metadata": {},
   "outputs": [],
   "source": [
    "def get_calendar_list():\n",
    "    cnt = 0\n",
    "    calendar_list = []\n",
    "    for i in cal_result['items']:\n",
    "        calendar_list.append(str(cnt)+' '+i['summary'])\n",
    "        cnt +=1\n",
    "    return calendar_list"
   ]
  },
  {
   "cell_type": "code",
   "execution_count": 107,
   "metadata": {},
   "outputs": [],
   "source": [
    "test_cal_list = get_calendar_list()"
   ]
  },
  {
   "cell_type": "code",
   "execution_count": 108,
   "metadata": {},
   "outputs": [
    {
     "data": {
      "text/plain": [
       "['0 masha.geo@gmail.com',\n",
       " '1 NYT Astronomy and Space Calendar',\n",
       " '2 Classes',\n",
       " '3 Summer',\n",
       " '4 Family',\n",
       " '5 HackMIT 2020',\n",
       " '6 https://registrar.mit.edu/calendar-ical/current/93/all/calendar.ics',\n",
       " '7 Contacts',\n",
       " '8 Holidays in United States',\n",
       " '9 Праздники РФ',\n",
       " '10 Weather']"
      ]
     },
     "execution_count": 108,
     "metadata": {},
     "output_type": "execute_result"
    }
   ],
   "source": [
    "test_cal_list"
   ]
  },
  {
   "cell_type": "code",
   "execution_count": 13,
   "metadata": {},
   "outputs": [],
   "source": [
    "calendar_id = cal_result['items'][calendar_choice]['id'] #my Classes calendar"
   ]
  },
  {
   "cell_type": "code",
   "execution_count": 14,
   "metadata": {},
   "outputs": [],
   "source": [
    "result = service.events().list(calendarId=calendar_id).execute()"
   ]
  },
  {
   "cell_type": "code",
   "execution_count": 15,
   "metadata": {},
   "outputs": [
    {
     "name": "stdout",
     "output_type": "stream",
     "text": [
      "<class 'dict'>\n"
     ]
    },
    {
     "data": {
      "text/plain": [
       "{'kind': 'calendar#event',\n",
       " 'etag': '\"3197790914848000\"',\n",
       " 'id': '11tdf94uuekebq19nt9v9f4scg',\n",
       " 'status': 'confirmed',\n",
       " 'htmlLink': 'https://www.google.com/calendar/event?eid=MTF0ZGY5NHV1ZWtlYnExOW50OXY5ZjRzY2dfMjAyMDA5MTRUMTYwMDAwWiByc2NqMDRuYWV1ZjBpaWUwOTYxMGptMDU1MEBn',\n",
       " 'created': '2020-08-31T17:19:27.000Z',\n",
       " 'updated': '2020-08-31T17:37:37.424Z',\n",
       " 'summary': '4.A01',\n",
       " 'description': 'https://mit.zoom.us/j/97833456008?pwd=TEs2NUI5SGFCOCtKWHpGVDZ4TkQ0dz09',\n",
       " 'colorId': '2',\n",
       " 'creator': {'email': 'masha.geo@gmail.com'},\n",
       " 'organizer': {'email': 'rscj04naeuf0iie09610jm0550@group.calendar.google.com',\n",
       "  'displayName': 'Classes',\n",
       "  'self': True},\n",
       " 'start': {'dateTime': '2020-09-14T12:00:00-04:00',\n",
       "  'timeZone': 'America/New_York'},\n",
       " 'end': {'dateTime': '2020-09-14T13:00:00-04:00',\n",
       "  'timeZone': 'America/New_York'},\n",
       " 'recurrence': ['RRULE:FREQ=WEEKLY;WKST=SU;UNTIL=20201215T045959Z;BYDAY=MO'],\n",
       " 'iCalUID': '11tdf94uuekebq19nt9v9f4scg@google.com',\n",
       " 'sequence': 0,\n",
       " 'reminders': {'useDefault': True}}"
      ]
     },
     "execution_count": 15,
     "metadata": {},
     "output_type": "execute_result"
    }
   ],
   "source": [
    "#testing\n",
    "print(type(result['items'][0]))\n",
    "result['items'][0]\n",
    "#so every class in the calendar is a dictionary w each of the tags as an entry"
   ]
  },
  {
   "cell_type": "code",
   "execution_count": null,
   "metadata": {
    "scrolled": true
   },
   "outputs": [],
   "source": [
    "#get the school timezone\n",
    "cont = input(\"What continent? \").title() \n",
    "#need to make a note of the choices. lowk can we just have them choose from a list lmao\n",
    "#bc like America vs North America vs Americas\n",
    "city = input(\"What city? \").title().replace(\" \", \"_\")\n",
    "school_tz = cont+'/'+city"
   ]
  },
  {
   "cell_type": "code",
   "execution_count": null,
   "metadata": {},
   "outputs": [],
   "source": [
    "# want to update every event in calendar to have a timezone tag bc the user might not have done that\n",
    "# - or do we just assume that they did that??\n",
    "# either way i'll put this in later\n",
    "\n",
    "### event = service.events().get(calendarId=calendar_id, eventId='eventId').execute()\n",
    "### updated_event = service.events().update(calendarId=calendar_id, eventId=event['id'], body=event).execute()\n",
    "\n"
   ]
  },
  {
   "cell_type": "code",
   "execution_count": 16,
   "metadata": {},
   "outputs": [],
   "source": [
    "import copy"
   ]
  },
  {
   "cell_type": "code",
   "execution_count": 39,
   "metadata": {},
   "outputs": [
    {
     "name": "stdout",
     "output_type": "stream",
     "text": [
      "4.A01\n",
      "synchronous? (0,1,2) 2\n",
      "6.0001 lec\n",
      "synchronous? (0,1,2) 1\n",
      "B1.2 Deutsch\n",
      "synchronous? (0,1,2) 2\n",
      "6.0001 rec\n",
      "synchronous? (0,1,2) 1\n",
      "11.S03\n",
      "synchronous? (0,1,2) 2\n",
      "8.022 rec\n",
      "synchronous? (0,1,2) 2\n",
      "18.03 lec\n",
      "synchronous? (0,1,2) 0\n",
      "18.03 rec\n",
      "synchronous? (0,1,2) 2\n",
      "Tutmonda\n",
      "synchronous? (0,1,2) 2\n",
      "Tutmonda\n",
      "synchronous? (0,1,2) 2\n",
      "6.0001 rec\n",
      "synchronous? (0,1,2) 1\n",
      "4.001\n",
      "synchronous? (0,1,2) 2\n",
      "21G.058\n",
      "synchronous? (0,1,2) 2\n",
      "21G.058\n",
      "synchronous? (0,1,2) 2\n",
      "8.022 lec\n",
      "synchronous? (0,1,2) 0\n",
      "8.022 lec\n",
      "synchronous? (0,1,2) 0\n"
     ]
    }
   ],
   "source": [
    "#create a dictionary where each entry is class_name:{dic of its atributes from user input}\n",
    "user_dic = {}\n",
    "#create a dictionary where each entry is class_name:{event params from gcal import minus event id}\n",
    "event_dic = {}\n",
    "for course in result['items']:\n",
    "    print(course['summary'])\n",
    "    sync=int(input(\"synchronous? (0,1,2) \")) #0=asynch, 1=recorded but maybe pref to watch live, 2=synch\n",
    "    user_dic[course['summary']]={'sync':sync}\n",
    "    event_dic[course['summary']]= copy.deepcopy(course) \n",
    "    try:\n",
    "        del event_dic[course['summary']]['id']#remove the event id bc that's specific to this calendar and i just need the event parameters\n",
    "        del event_dic[course['summary']]['htmlLink']\n",
    "        del event_dic[course['summary']]['iCalUID']\n",
    "        del event_dic[course['summary']]['etag']\n",
    "        del event_dic[course['summary']]['organizer']\n",
    "        del event_dic[course['summary']]['recurringEventId']\n",
    "    except KeyError:\n",
    "        pass\n",
    "    "
   ]
  },
  {
   "cell_type": "code",
   "execution_count": 37,
   "metadata": {},
   "outputs": [
    {
     "data": {
      "text/plain": [
       "{'4.A01': {'kind': 'calendar#event',\n",
       "  'status': 'confirmed',\n",
       "  'created': '2020-08-31T17:19:27.000Z',\n",
       "  'updated': '2020-08-31T17:37:37.424Z',\n",
       "  'summary': '4.A01',\n",
       "  'description': 'https://mit.zoom.us/j/97833456008?pwd=TEs2NUI5SGFCOCtKWHpGVDZ4TkQ0dz09',\n",
       "  'colorId': '2',\n",
       "  'creator': {'email': 'masha.geo@gmail.com'},\n",
       "  'start': {'dateTime': '2020-09-14T12:00:00-04:00',\n",
       "   'timeZone': 'America/New_York'},\n",
       "  'end': {'dateTime': '2020-09-14T13:00:00-04:00',\n",
       "   'timeZone': 'America/New_York'},\n",
       "  'recurrence': ['RRULE:FREQ=WEEKLY;WKST=SU;UNTIL=20201215T045959Z;BYDAY=MO'],\n",
       "  'sequence': 0,\n",
       "  'reminders': {'useDefault': True}},\n",
       " '6.0001 lec': {'kind': 'calendar#event',\n",
       "  'status': 'confirmed',\n",
       "  'created': '2020-09-01T02:16:23.000Z',\n",
       "  'updated': '2020-09-01T02:17:04.649Z',\n",
       "  'summary': '6.0001 lec',\n",
       "  'description': 'https://mit.zoom.us/j/94826488181',\n",
       "  'colorId': '3',\n",
       "  'creator': {'email': 'masha.geo@gmail.com'},\n",
       "  'start': {'dateTime': '2020-09-02T15:00:00-04:00',\n",
       "   'timeZone': 'America/New_York'},\n",
       "  'end': {'dateTime': '2020-09-02T16:30:00-04:00',\n",
       "   'timeZone': 'America/New_York'},\n",
       "  'recurrence': ['RRULE:FREQ=WEEKLY;WKST=SU;UNTIL=20201217T045959Z;BYDAY=MO,WE'],\n",
       "  'sequence': 0,\n",
       "  'reminders': {'useDefault': True}},\n",
       " 'B1.2 Deutsch': {'kind': 'calendar#event',\n",
       "  'status': 'confirmed',\n",
       "  'created': '2020-09-01T02:22:16.000Z',\n",
       "  'updated': '2020-09-01T02:22:16.381Z',\n",
       "  'summary': 'B1.2 Deutsch',\n",
       "  'colorId': '11',\n",
       "  'creator': {'email': 'masha.geo@gmail.com'},\n",
       "  'start': {'dateTime': '2020-09-19T13:00:00-04:00',\n",
       "   'timeZone': 'America/New_York'},\n",
       "  'end': {'dateTime': '2020-09-19T15:30:00-04:00',\n",
       "   'timeZone': 'America/New_York'},\n",
       "  'recurrence': ['RRULE:FREQ=WEEKLY;WKST=SU;COUNT=10;BYDAY=SA'],\n",
       "  'sequence': 0,\n",
       "  'reminders': {'useDefault': True}},\n",
       " '6.0001 rec': {'kind': 'calendar#event',\n",
       "  'status': 'confirmed',\n",
       "  'created': '2020-09-01T02:24:36.000Z',\n",
       "  'updated': '2020-09-13T22:38:51.808Z',\n",
       "  'summary': '6.0001 rec',\n",
       "  'colorId': '3',\n",
       "  'creator': {'email': 'masha.geo@gmail.com'},\n",
       "  'start': {'dateTime': '2020-09-18T11:00:00-04:00',\n",
       "   'timeZone': 'America/New_York'},\n",
       "  'end': {'dateTime': '2020-09-18T12:00:00-04:00',\n",
       "   'timeZone': 'America/New_York'},\n",
       "  'recurringEventId': '55fpdcbjgrsmlgvq9s8a0tjkhb',\n",
       "  'originalStartTime': {'dateTime': '2020-09-18T13:00:00-04:00',\n",
       "   'timeZone': 'America/New_York'},\n",
       "  'sequence': 1,\n",
       "  'reminders': {'useDefault': True}},\n",
       " '11.S03': {'kind': 'calendar#event',\n",
       "  'status': 'confirmed',\n",
       "  'created': '2020-09-01T02:28:06.000Z',\n",
       "  'updated': '2020-09-02T13:40:58.333Z',\n",
       "  'summary': '11.S03',\n",
       "  'description': 'https:\\u200b//<a href=\"http://mit.zoom.us/j/94567146486\">mit.zoom.us/j/94567146486</a>',\n",
       "  'colorId': '2',\n",
       "  'creator': {'email': 'masha.geo@gmail.com'},\n",
       "  'start': {'dateTime': '2020-09-03T11:00:00-04:00',\n",
       "   'timeZone': 'America/New_York'},\n",
       "  'end': {'dateTime': '2020-09-03T12:30:00-04:00',\n",
       "   'timeZone': 'America/New_York'},\n",
       "  'recurrence': ['RRULE:FREQ=WEEKLY;WKST=SU;UNTIL=20201218T045959Z;BYDAY=TH'],\n",
       "  'sequence': 0,\n",
       "  'reminders': {'useDefault': True}},\n",
       " '8.022 rec': {'kind': 'calendar#event',\n",
       "  'status': 'confirmed',\n",
       "  'created': '2020-09-02T14:51:12.000Z',\n",
       "  'updated': '2020-09-02T14:51:12.612Z',\n",
       "  'summary': '8.022 rec',\n",
       "  'description': 'https://mit.zoom.us/j/96644804125',\n",
       "  'colorId': '9',\n",
       "  'creator': {'email': 'masha.geo@gmail.com'},\n",
       "  'start': {'dateTime': '2020-09-02T14:00:00-04:00',\n",
       "   'timeZone': 'America/New_York'},\n",
       "  'end': {'dateTime': '2020-09-02T15:00:00-04:00',\n",
       "   'timeZone': 'America/New_York'},\n",
       "  'recurrence': ['RRULE:FREQ=WEEKLY;WKST=MO;UNTIL=20201217T045959Z;BYDAY=MO,WE'],\n",
       "  'sequence': 0,\n",
       "  'reminders': {'useDefault': True}},\n",
       " '18.03 lec': {'kind': 'calendar#event',\n",
       "  'status': 'confirmed',\n",
       "  'created': '2020-08-31T17:28:18.000Z',\n",
       "  'updated': '2020-09-02T17:01:17.981Z',\n",
       "  'summary': '18.03 lec',\n",
       "  'description': '<a href=\"https://mit.zoom.us/j/92842002113\">https://mit.zoom.us/j/92842002113</a>',\n",
       "  'colorId': '7',\n",
       "  'creator': {'email': 'masha.geo@gmail.com'},\n",
       "  'start': {'dateTime': '2020-09-02T13:00:00-04:00',\n",
       "   'timeZone': 'America/New_York'},\n",
       "  'end': {'dateTime': '2020-09-02T14:00:00-04:00',\n",
       "   'timeZone': 'America/New_York'},\n",
       "  'recurrence': ['RRULE:FREQ=WEEKLY;WKST=SU;UNTIL=20201217T045959Z;BYDAY=MO,WE'],\n",
       "  'sequence': 0,\n",
       "  'reminders': {'useDefault': True}},\n",
       " '18.03 rec': {'kind': 'calendar#event',\n",
       "  'status': 'confirmed',\n",
       "  'created': '2020-09-01T02:18:24.000Z',\n",
       "  'updated': '2020-09-03T20:15:54.169Z',\n",
       "  'summary': '18.03 rec',\n",
       "  'description': 'https://mit.zoom.us/j/93690098353?pwd=cFlwSmVvcGhPU0cyWDArK0E4TXV0Zz09',\n",
       "  'colorId': '7',\n",
       "  'creator': {'email': 'masha.geo@gmail.com'},\n",
       "  'start': {'dateTime': '2020-09-03T16:00:00-04:00',\n",
       "   'timeZone': 'America/New_York'},\n",
       "  'end': {'dateTime': '2020-09-03T17:00:00-04:00',\n",
       "   'timeZone': 'America/New_York'},\n",
       "  'recurrence': ['RRULE:FREQ=WEEKLY;WKST=SU;UNTIL=20201218T045959Z;BYDAY=TH,TU'],\n",
       "  'sequence': 0,\n",
       "  'reminders': {'useDefault': True}},\n",
       " 'Tutmonda': {'kind': 'calendar#event',\n",
       "  'status': 'confirmed',\n",
       "  'created': '2020-09-01T02:20:38.000Z',\n",
       "  'updated': '2020-09-03T21:01:03.633Z',\n",
       "  'summary': 'Tutmonda',\n",
       "  'description': '<a href=\"https://mit.zoom.us/j/92827157161?pwd=dE4zY1BiTzNUdERnaU1OYk0vNHE4QT09\">https://mit.zoom.us/j/92827157161?pwd=dE4zY1BiTzNUdERnaU1OYk0vNHE4QT09</a>',\n",
       "  'colorId': '11',\n",
       "  'creator': {'email': 'masha.geo@gmail.com'},\n",
       "  'start': {'dateTime': '2020-09-03T17:00:00-04:00'},\n",
       "  'end': {'dateTime': '2020-09-03T18:30:00-04:00'},\n",
       "  'recurringEventId': '7d4f5argf1o24s1ufdrvjn3amq',\n",
       "  'originalStartTime': {'dateTime': '2020-09-10T17:00:00-04:00'},\n",
       "  'sequence': 1,\n",
       "  'reminders': {'useDefault': True}},\n",
       " '4.001': {'kind': 'calendar#event',\n",
       "  'status': 'confirmed',\n",
       "  'created': '2020-09-01T02:25:32.000Z',\n",
       "  'updated': '2020-09-16T19:12:33.683Z',\n",
       "  'summary': '4.001',\n",
       "  'description': '<a href=\"https://mit.zoom.us/j/92376630318\">https://mit.zoom.us/j/92376630318</a>',\n",
       "  'colorId': '2',\n",
       "  'creator': {'email': 'masha.geo@gmail.com'},\n",
       "  'start': {'dateTime': '2020-09-04T15:00:00-04:00',\n",
       "   'timeZone': 'America/New_York'},\n",
       "  'end': {'dateTime': '2020-09-04T17:00:00-04:00',\n",
       "   'timeZone': 'America/New_York'},\n",
       "  'recurrence': ['RRULE:FREQ=WEEKLY;WKST=SU;UNTIL=20201219T045959Z;BYDAY=FR'],\n",
       "  'sequence': 0,\n",
       "  'reminders': {'useDefault': True}},\n",
       " '21G.058': {'kind': 'calendar#event',\n",
       "  'status': 'confirmed',\n",
       "  'created': '2020-08-31T17:30:25.000Z',\n",
       "  'updated': '2020-09-18T06:56:17.674Z',\n",
       "  'summary': '21G.058',\n",
       "  'description': '<a href=\"https://mit.zoom.us/j/92546908850\">https://mit.zoom.us/j/92546908850</a>',\n",
       "  'colorId': '11',\n",
       "  'creator': {'email': 'masha.geo@gmail.com'},\n",
       "  'start': {'dateTime': '2020-09-01T14:30:00-04:00',\n",
       "   'timeZone': 'America/New_York'},\n",
       "  'end': {'dateTime': '2020-09-01T16:00:00-04:00',\n",
       "   'timeZone': 'America/New_York'},\n",
       "  'recurrence': ['RRULE:FREQ=WEEKLY;WKST=SU;UNTIL=20200917T183000Z;BYDAY=TH,TU'],\n",
       "  'transparency': 'transparent',\n",
       "  'sequence': 1,\n",
       "  'reminders': {'useDefault': False}},\n",
       " '8.022 lec': {'kind': 'calendar#event',\n",
       "  'status': 'confirmed',\n",
       "  'created': '2020-09-01T02:31:12.000Z',\n",
       "  'updated': '2020-09-18T06:56:22.787Z',\n",
       "  'summary': '8.022 lec',\n",
       "  'description': '<a href=\"https://mit.zoom.us/j/97802022420?\">https://mit.zoom.us/j/97802022420?</a>',\n",
       "  'colorId': '9',\n",
       "  'creator': {'email': 'masha.geo@gmail.com'},\n",
       "  'start': {'dateTime': '2020-09-01T14:00:00-04:00',\n",
       "   'timeZone': 'America/New_York'},\n",
       "  'end': {'dateTime': '2020-09-01T14:30:00-04:00',\n",
       "   'timeZone': 'America/New_York'},\n",
       "  'recurrence': ['RRULE:FREQ=WEEKLY;UNTIL=20200917T180000Z;BYDAY=TH,TU'],\n",
       "  'sequence': 0,\n",
       "  'reminders': {'useDefault': False}}}"
      ]
     },
     "execution_count": 37,
     "metadata": {},
     "output_type": "execute_result"
    }
   ],
   "source": [
    "event_dic"
   ]
  },
  {
   "cell_type": "code",
   "execution_count": 42,
   "metadata": {},
   "outputs": [],
   "source": [
    "#create a new calendar, and then we'll add events to it directly\n",
    "home_tz = pytz.timezone('Europe/Moscow') #switch to user input later\n",
    "newcalendar = {'summary': 'new_test_calendar','timeZone': home_tz} #need to change cal name lol\n",
    "\n",
    "created_calendar = service.calendars().insert(body=newcalendar).execute()\n",
    "\n",
    "new_calendar_id = created_calendar['id']"
   ]
  },
  {
   "cell_type": "code",
   "execution_count": 43,
   "metadata": {},
   "outputs": [],
   "source": [
    "#first, sort the events by synchronicity\n",
    "synch = [course[0] for course in user_dic.items() if course[1]['sync']==2]\n",
    "semisynch = [course[0] for course in user_dic.items() if course[1]['sync']==1]\n",
    "asynch = [course[0] for course in user_dic.items() if course[1]['sync']==0]\n",
    " "
   ]
  },
  {
   "cell_type": "code",
   "execution_count": 131,
   "metadata": {},
   "outputs": [],
   "source": [
    "def freebusy():\n",
    "    dt1 = home_tz.localize(datetime.datetime(2020, 9, 21, 12))\n",
    "    dt2 = home_tz.localize(datetime.datetime(2020, 9, 22, 12))\n",
    "    body = {\"kind\":\"calendar#freeBusy\",\n",
    "      \"timeMin\": dt1.isoformat(), #need tp have it do next monday to next sunday\n",
    "      \"timeMax\": dt2.isoformat(),\n",
    "      \"timeZone\": 'Europe/Moscow',\n",
    "      \"items\": [\n",
    "        {\n",
    "          \"id\": new_calendar_id\n",
    "        }\n",
    "      ]\n",
    "    }\n",
    "\n",
    "    free = service.freebusy().query(body=body).execute()\n",
    "    return free"
   ]
  },
  {
   "cell_type": "code",
   "execution_count": 44,
   "metadata": {},
   "outputs": [
    {
     "name": "stdout",
     "output_type": "stream",
     "text": [
      "4.A01\n",
      "B1.2 Deutsch\n",
      "11.S03\n",
      "8.022 rec\n",
      "18.03 rec\n",
      "Tutmonda\n",
      "4.001\n",
      "21G.058\n"
     ]
    }
   ],
   "source": [
    "#first, create the events for the completely synchronous classes\n",
    "\n",
    "for name in synch:\n",
    "    print(name)\n",
    "    service.events().insert(calendarId=new_calendar_id, body=event_dic[name]).execute()\n"
   ]
  },
  {
   "cell_type": "code",
   "execution_count": 137,
   "metadata": {},
   "outputs": [],
   "source": [
    "try:\n",
    "    free = freebusy()\n",
    "except HttpError:\n",
    "    try:\n",
    "        free = freebusy()\n",
    "    except HttpError:\n",
    "        try:\n",
    "            free = freebusy()\n",
    "        except HttpError:\n",
    "            free = freebusy()\n"
   ]
  },
  {
   "cell_type": "code",
   "execution_count": 135,
   "metadata": {
    "scrolled": true
   },
   "outputs": [
    {
     "name": "stdout",
     "output_type": "stream",
     "text": [
      "How many hours would you like to sleep? 7\n",
      "Are you a morning person (0) or a night owl (1)? (enter 0 or 1) 0\n"
     ]
    }
   ],
   "source": [
    "sleep_time = int(input(\"How many hours would you like to sleep? \"))\n",
    "time_of_day = int(input(\"Are you a morning person (0) or a night owl (1)? (enter 0 or 1) \"))"
   ]
  },
  {
   "cell_type": "code",
   "execution_count": 162,
   "metadata": {},
   "outputs": [
    {
     "name": "stdout",
     "output_type": "stream",
     "text": [
      "{'start': '2020-09-21T19:00:00+03:00', 'end': '2020-09-21T20:00:00+03:00'}\n",
      "{'start': '2020-09-21T21:00:00+03:00', 'end': '2020-09-21T22:00:00+03:00'}\n"
     ]
    }
   ],
   "source": [
    "#next, set a sleep time \n",
    "\n",
    "times_list = []\n",
    "class_starts = []\n",
    "class_ends = []\n",
    "for dic in free['calendars'][new_calendar_id]['busy']:\n",
    "    print(dic)\n",
    "    #get the intervals as datetime\n",
    "    times_list.append(dic['start'])\n",
    "    class_starts.append(dic['start'])\n",
    "    times_list.append(dic['end'])\n",
    "    class_ends.append(dic['end'])\n",
    "    \n",
    "times_list.sort()\n",
    "times_list = [dt.strptime(time[0:-6],'%Y-%m-%dT%H:%M:%S') for time in times_list]\n",
    "#class_starts = [dt.strptime(time[0:-6],'%Y-%m-%dT%H:%M:%S') for time in class_starts]\n",
    "#class_ends = [dt.strptime(time[0:-6],'%Y-%m-%dT%H:%M:%S') for time in class_ends]\n",
    "class_starts = [int(time[11:13]) for time in class_starts]\n",
    "class_ends = [int(time[11:13]) for time in class_ends]\n",
    "\n",
    "try:\n",
    "    latest_class = max(i for i in class_ends if i <= 5) \n",
    "except:\n",
    "    latest_class = max(class_ends)\n",
    "\n",
    "earliest_class = min(i for i in class_starts if i >= 5)\n",
    "\n",
    "if time_of_day == 0: #if morning person\n",
    "    #find the sleep start time that's 10 pm or 1 hr after your last class, whichever is earlier\n",
    "    if latest_class <= 21:\n",
    "        #sleep at 22\n",
    "        start_datetime = dt(2020, 9, 21, 22)\n",
    "        stop_datetime = dt(2020, 9, 22, (22+sleep_time)%24)\n",
    "        event = { #need to add recurrence!\n",
    "          'summary': 'Sleept',\n",
    "          'description': 'zzzzzz',\n",
    "          'start': {\n",
    "            'dateTime': start_datetime.isoformat(),\n",
    "            'timeZone': 'Europe/Moscow',\n",
    "          },\n",
    "          'end': {\n",
    "            'dateTime': stop_datetime.isoformat(),\n",
    "            'timeZone': 'Europe/Moscow',\n",
    "          }\n",
    "        }\n",
    "        event = service.events().insert(calendarId=new_calendar_id, body=event).execute()\n",
    "    else:\n",
    "        #sleep at latest_class+1\n",
    "    #add sleep as an event\n",
    "\n",
    "        pass\n",
    "else: #if night owl\n",
    "    #find the sleep start that ends at 12 pm or an hour before earliest class, whichever is later\n",
    "    \n",
    "    #add sleep as an event\n",
    "    pass\n"
   ]
  },
  {
   "cell_type": "code",
   "execution_count": 150,
   "metadata": {},
   "outputs": [
    {
     "data": {
      "text/plain": [
       "['20', '22']"
      ]
     },
     "execution_count": 150,
     "metadata": {},
     "output_type": "execute_result"
    }
   ],
   "source": [
    "class_ends"
   ]
  },
  {
   "cell_type": "code",
   "execution_count": 127,
   "metadata": {},
   "outputs": [
    {
     "data": {
      "text/plain": [
       "datetime.datetime(2020, 9, 21, 19, 0)"
      ]
     },
     "execution_count": 127,
     "metadata": {},
     "output_type": "execute_result"
    }
   ],
   "source": [
    "#dt.strptime(time[0:-6],'%Y-%m-%dT%H:%M:%S')\n",
    "dt.strptime('2020-09-21T19:00:00+03:00'[0:-6],'%Y-%m-%dT%H:%M:%S')"
   ]
  },
  {
   "cell_type": "code",
   "execution_count": null,
   "metadata": {},
   "outputs": [],
   "source": [
    "\n",
    "#then, check if you can make the half synch (1) classes work using freebusy method\n",
    "    #schedule as many as you can to be synch\n",
    "    #then, take user input for clustering vs breaks (bc we're starting asynch scheduling)\n",
    "    #depending on answer,\n",
    "#finally, schedule in the rest of the asynch classes\n",
    "\n",
    "       "
   ]
  },
  {
   "cell_type": "code",
   "execution_count": 97,
   "metadata": {},
   "outputs": [
    {
     "data": {
      "text/plain": [
       "'2020-09-21T21:00:00'"
      ]
     },
     "execution_count": 97,
     "metadata": {},
     "output_type": "execute_result"
    }
   ],
   "source": [
    "(datetime.datetime(2020, 9, 21, 21).isoformat())"
   ]
  },
  {
   "cell_type": "code",
   "execution_count": 100,
   "metadata": {},
   "outputs": [],
   "source": [
    "free = freebusy()"
   ]
  },
  {
   "cell_type": "code",
   "execution_count": 101,
   "metadata": {},
   "outputs": [
    {
     "data": {
      "text/plain": [
       "[{'start': '2020-09-21T19:00:00+03:00', 'end': '2020-09-21T20:00:00+03:00'},\n",
       " {'start': '2020-09-21T21:00:00+03:00', 'end': '2020-09-21T22:00:00+03:00'}]"
      ]
     },
     "execution_count": 101,
     "metadata": {},
     "output_type": "execute_result"
    }
   ],
   "source": [
    "free['calendars'][new_calendar_id]['busy']"
   ]
  },
  {
   "cell_type": "code",
   "execution_count": null,
   "metadata": {},
   "outputs": [],
   "source": []
  }
 ],
 "metadata": {
  "kernelspec": {
   "display_name": "Python 3",
   "language": "python",
   "name": "python3"
  },
  "language_info": {
   "codemirror_mode": {
    "name": "ipython",
    "version": 3
   },
   "file_extension": ".py",
   "mimetype": "text/x-python",
   "name": "python",
   "nbconvert_exporter": "python",
   "pygments_lexer": "ipython3",
   "version": "3.8.3"
  }
 },
 "nbformat": 4,
 "nbformat_minor": 4
}
