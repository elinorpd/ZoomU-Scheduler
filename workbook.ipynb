{
 "cells": [
  {
   "cell_type": "code",
   "execution_count": 1,
   "metadata": {},
   "outputs": [],
   "source": [
    "from apiclient.discovery import build\n",
    "from google_auth_oauthlib.flow import InstalledAppFlow"
   ]
  },
  {
   "cell_type": "code",
   "execution_count": 2,
   "metadata": {},
   "outputs": [],
   "source": [
    "from datetime import datetime as dt\n",
    "import pytz"
   ]
  },
  {
   "cell_type": "code",
   "execution_count": 3,
   "metadata": {},
   "outputs": [],
   "source": [
    "scopes = ['https://www.googleapis.com/auth/calendar']"
   ]
  },
  {
   "cell_type": "code",
   "execution_count": 4,
   "metadata": {},
   "outputs": [],
   "source": [
    "flow = InstalledAppFlow.from_client_secrets_file(\"masha_credentials.json\", scopes=scopes)"
   ]
  },
  {
   "cell_type": "code",
   "execution_count": 8,
   "metadata": {},
   "outputs": [
    {
     "name": "stdout",
     "output_type": "stream",
     "text": [
      "Please visit this URL to authorize this application: https://accounts.google.com/o/oauth2/auth?response_type=code&client_id=358671830953-l2k1p6h7ggf001gnd7hpgamnsephnut7.apps.googleusercontent.com&redirect_uri=urn%3Aietf%3Awg%3Aoauth%3A2.0%3Aoob&scope=https%3A%2F%2Fwww.googleapis.com%2Fauth%2Fcalendar&state=eUOyTV32Z6tzLpTPK9onXRsZch8BqU&prompt=consent&access_type=offline\n",
      "Enter the authorization code: 4/4QFpjTsr5V5yQbOyXXcQCgZ_Iet25ZGxPMa4JjxeSXwq7X8X90KhMJA\n"
     ]
    }
   ],
   "source": [
    "credentials = flow.run_console()"
   ]
  },
  {
   "cell_type": "code",
   "execution_count": 6,
   "metadata": {},
   "outputs": [],
   "source": [
    "import pickle"
   ]
  },
  {
   "cell_type": "code",
   "execution_count": 5,
   "metadata": {
    "collapsed": true
   },
   "outputs": [
    {
     "ename": "NameError",
     "evalue": "name 'pickle' is not defined",
     "output_type": "error",
     "traceback": [
      "\u001b[0;31m---------------------------------------------------------------------------\u001b[0m",
      "\u001b[0;31mNameError\u001b[0m                                 Traceback (most recent call last)",
      "\u001b[0;32m<ipython-input-5-3f8d90e18558>\u001b[0m in \u001b[0;36m<module>\u001b[0;34m\u001b[0m\n\u001b[0;32m----> 1\u001b[0;31m \u001b[0mpickle\u001b[0m\u001b[0;34m.\u001b[0m\u001b[0mdump\u001b[0m\u001b[0;34m(\u001b[0m\u001b[0mcredentials\u001b[0m\u001b[0;34m,\u001b[0m \u001b[0mopen\u001b[0m\u001b[0;34m(\u001b[0m\u001b[0;34m\"token.pkl\"\u001b[0m\u001b[0;34m,\u001b[0m \u001b[0;34m\"wb\"\u001b[0m\u001b[0;34m)\u001b[0m\u001b[0;34m)\u001b[0m\u001b[0;34m\u001b[0m\u001b[0;34m\u001b[0m\u001b[0m\n\u001b[0m",
      "\u001b[0;31mNameError\u001b[0m: name 'pickle' is not defined"
     ]
    }
   ],
   "source": [
    "pickle.dump(credentials, open(\"token.pkl\", \"wb\"))"
   ]
  },
  {
   "cell_type": "code",
   "execution_count": 7,
   "metadata": {},
   "outputs": [
    {
     "ename": "FileNotFoundError",
     "evalue": "[Errno 2] No such file or directory: 'token.pkl'",
     "output_type": "error",
     "traceback": [
      "\u001b[0;31m---------------------------------------------------------------------------\u001b[0m",
      "\u001b[0;31mFileNotFoundError\u001b[0m                         Traceback (most recent call last)",
      "\u001b[0;32m<ipython-input-7-7b8c01c09feb>\u001b[0m in \u001b[0;36m<module>\u001b[0;34m\u001b[0m\n\u001b[1;32m      1\u001b[0m \u001b[0;31m#next time\u001b[0m\u001b[0;34m\u001b[0m\u001b[0;34m\u001b[0m\u001b[0;34m\u001b[0m\u001b[0m\n\u001b[0;32m----> 2\u001b[0;31m \u001b[0mcredentials\u001b[0m \u001b[0;34m=\u001b[0m \u001b[0mpickle\u001b[0m\u001b[0;34m.\u001b[0m\u001b[0mload\u001b[0m\u001b[0;34m(\u001b[0m\u001b[0mopen\u001b[0m\u001b[0;34m(\u001b[0m\u001b[0;34m\"token.pkl\"\u001b[0m\u001b[0;34m,\u001b[0m \u001b[0;34m\"rb\"\u001b[0m\u001b[0;34m)\u001b[0m\u001b[0;34m)\u001b[0m\u001b[0;34m\u001b[0m\u001b[0;34m\u001b[0m\u001b[0m\n\u001b[0m",
      "\u001b[0;31mFileNotFoundError\u001b[0m: [Errno 2] No such file or directory: 'token.pkl'"
     ]
    }
   ],
   "source": [
    "#next time\n",
    "credentials = pickle.load(open(\"token.pkl\", \"rb\"))"
   ]
  },
  {
   "cell_type": "code",
   "execution_count": 9,
   "metadata": {},
   "outputs": [],
   "source": [
    "service = build(\"calendar\", \"v3\", credentials=credentials)"
   ]
  },
  {
   "cell_type": "code",
   "execution_count": 10,
   "metadata": {},
   "outputs": [],
   "source": [
    "cal_result = service.calendarList().list().execute()"
   ]
  },
  {
   "cell_type": "code",
   "execution_count": null,
   "metadata": {},
   "outputs": [],
   "source": [
    "cal_result['items']"
   ]
  },
  {
   "cell_type": "code",
   "execution_count": 11,
   "metadata": {
    "scrolled": true
   },
   "outputs": [
    {
     "name": "stdout",
     "output_type": "stream",
     "text": [
      "0 masha.geo@gmail.com\n",
      "1 NYT Astronomy and Space Calendar\n",
      "2 Classes\n",
      "3 Summer\n",
      "4 Family\n",
      "5 HackMIT 2020\n",
      "6 https://registrar.mit.edu/calendar-ical/current/93/all/calendar.ics\n",
      "7 Contacts\n",
      "8 Holidays in United States\n",
      "9 Праздники РФ\n",
      "10 Weather\n",
      "\n",
      "Which of these calendars would you like to use? (number) 2\n"
     ]
    }
   ],
   "source": [
    "cnt = 0\n",
    "calendar_list = []\n",
    "for i in cal_result['items']:\n",
    "    calendar_list.append(i['summary'])\n",
    "for i in calendar_list:\n",
    "    print(cnt, i)\n",
    "    cnt +=1\n",
    "calendar_choice = int(input(\"\\nWhich of these calendars would you like to use? (number) \"))"
   ]
  },
  {
   "cell_type": "code",
   "execution_count": 12,
   "metadata": {},
   "outputs": [],
   "source": [
    "def get_calendar_list():\n",
    "    cnt = 0\n",
    "    calendar_list = []\n",
    "    for i in cal_result['items']:\n",
    "        calendar_list.append(str(cnt)+' '+i['summary'])\n",
    "        cnt +=1\n",
    "    return calendar_list"
   ]
  },
  {
   "cell_type": "code",
   "execution_count": null,
   "metadata": {},
   "outputs": [],
   "source": [
    "test_cal_list = get_calendar_list()"
   ]
  },
  {
   "cell_type": "code",
   "execution_count": null,
   "metadata": {},
   "outputs": [],
   "source": [
    "test_cal_list"
   ]
  },
  {
   "cell_type": "code",
   "execution_count": 13,
   "metadata": {},
   "outputs": [],
   "source": [
    "calendar_id = cal_result['items'][calendar_choice]['id'] #my Classes calendar"
   ]
  },
  {
   "cell_type": "code",
   "execution_count": null,
   "metadata": {},
   "outputs": [],
   "source": [
    "#test_cal_id = cal_result['items'][calendar_choice]['id']"
   ]
  },
  {
   "cell_type": "code",
   "execution_count": null,
   "metadata": {},
   "outputs": [],
   "source": [
    "#type(cal)"
   ]
  },
  {
   "cell_type": "code",
   "execution_count": null,
   "metadata": {},
   "outputs": [],
   "source": []
  },
  {
   "cell_type": "code",
   "execution_count": 14,
   "metadata": {},
   "outputs": [],
   "source": [
    "result = service.events().list(calendarId=calendar_id).execute()"
   ]
  },
  {
   "cell_type": "code",
   "execution_count": null,
   "metadata": {},
   "outputs": [],
   "source": [
    "#testing\n",
    "print(type(result['items'][0]))\n",
    "result['items'][0]\n",
    "#so every class in the calendar is a dictionary w each of the tags as an entry"
   ]
  },
  {
   "cell_type": "code",
   "execution_count": null,
   "metadata": {
    "scrolled": true
   },
   "outputs": [],
   "source": [
    "#get the school timezone\n",
    "cont = input(\"What continent? \").title() \n",
    "#need to make a note of the choices. lowk can we just have them choose from a list lmao\n",
    "#bc like America vs North America vs Americas\n",
    "city = input(\"What city? \").title().replace(\" \", \"_\")\n",
    "school_tz = cont+'/'+city"
   ]
  },
  {
   "cell_type": "code",
   "execution_count": null,
   "metadata": {},
   "outputs": [],
   "source": [
    "# want to update every event in calendar to have a timezone tag bc the user might not have done that\n",
    "# - or do we just assume that they did that??\n",
    "# either way i'll put this in later\n",
    "\n",
    "### event = service.events().get(calendarId=calendar_id, eventId='eventId').execute()\n",
    "### updated_event = service.events().update(calendarId=calendar_id, eventId=event['id'], body=event).execute()\n",
    "\n"
   ]
  },
  {
   "cell_type": "code",
   "execution_count": null,
   "metadata": {},
   "outputs": [],
   "source": []
  },
  {
   "cell_type": "code",
   "execution_count": 15,
   "metadata": {},
   "outputs": [],
   "source": [
    "import copy"
   ]
  },
  {
   "cell_type": "code",
   "execution_count": 16,
   "metadata": {},
   "outputs": [
    {
     "name": "stdout",
     "output_type": "stream",
     "text": [
      "4.A01\n",
      "synchronous? (0,1,2) 2\n",
      "6.0001 lec\n",
      "synchronous? (0,1,2) 1\n",
      "B1.2 Deutsch\n",
      "synchronous? (0,1,2) 2\n",
      "6.0001 rec\n",
      "synchronous? (0,1,2) 1\n",
      "11.S03\n",
      "synchronous? (0,1,2) 2\n",
      "8.022 rec\n",
      "synchronous? (0,1,2) 2\n",
      "18.03 lec\n",
      "synchronous? (0,1,2) 0\n",
      "18.03 rec\n",
      "synchronous? (0,1,2) 2\n",
      "Tutmonda\n",
      "synchronous? (0,1,2) 2\n",
      "Tutmonda\n",
      "synchronous? (0,1,2) 2\n",
      "6.0001 rec\n",
      "synchronous? (0,1,2) 1\n",
      "4.001\n",
      "synchronous? (0,1,2) 2\n",
      "21G.058\n",
      "synchronous? (0,1,2) 2\n",
      "21G.058\n",
      "synchronous? (0,1,2) 2\n",
      "8.022 lec\n",
      "synchronous? (0,1,2) 0\n",
      "8.022 lec\n",
      "synchronous? (0,1,2) 0\n"
     ]
    }
   ],
   "source": [
    "#create a dictionary where each entry is class_name:{dic of its atributes from user input}\n",
    "user_dic = {}\n",
    "#create a dictionary where each entry is class_name:{event params from gcal import minus event id}\n",
    "event_dic = {}\n",
    "for course in result['items']:\n",
    "    print(course['summary'])\n",
    "    sync=int(input(\"synchronous? (0,1,2) \")) #0=asynch, 1=recorded but maybe pref to watch live, 2=synch\n",
    "    user_dic[course['summary']]={'sync':sync}\n",
    "    event_dic[course['summary']]= copy.deepcopy(course) \n",
    "    try:\n",
    "        del event_dic[course['summary']]['id']#remove the event id bc that's specific to this calendar and i just need the event parameters\n",
    "        del event_dic[course['summary']]['htmlLink']\n",
    "        del event_dic[course['summary']]['iCalUID']\n",
    "        del event_dic[course['summary']]['etag']\n",
    "        del event_dic[course['summary']]['organizer']\n",
    "        del event_dic[course['summary']]['recurringEventId']\n",
    "    except KeyError:\n",
    "        pass\n",
    "    "
   ]
  },
  {
   "cell_type": "code",
   "execution_count": 17,
   "metadata": {
    "collapsed": true
   },
   "outputs": [
    {
     "data": {
      "text/plain": [
       "{'4.A01': {'kind': 'calendar#event',\n",
       "  'status': 'confirmed',\n",
       "  'created': '2020-08-31T17:19:27.000Z',\n",
       "  'updated': '2020-08-31T17:37:37.424Z',\n",
       "  'summary': '4.A01',\n",
       "  'description': 'https://mit.zoom.us/j/97833456008?pwd=TEs2NUI5SGFCOCtKWHpGVDZ4TkQ0dz09',\n",
       "  'colorId': '2',\n",
       "  'creator': {'email': 'masha.geo@gmail.com'},\n",
       "  'start': {'dateTime': '2020-09-14T12:00:00-04:00',\n",
       "   'timeZone': 'America/New_York'},\n",
       "  'end': {'dateTime': '2020-09-14T13:00:00-04:00',\n",
       "   'timeZone': 'America/New_York'},\n",
       "  'recurrence': ['RRULE:FREQ=WEEKLY;WKST=SU;UNTIL=20201215T045959Z;BYDAY=MO'],\n",
       "  'sequence': 0,\n",
       "  'reminders': {'useDefault': True}},\n",
       " '6.0001 lec': {'kind': 'calendar#event',\n",
       "  'status': 'confirmed',\n",
       "  'created': '2020-09-01T02:16:23.000Z',\n",
       "  'updated': '2020-09-01T02:17:04.649Z',\n",
       "  'summary': '6.0001 lec',\n",
       "  'description': 'https://mit.zoom.us/j/94826488181',\n",
       "  'colorId': '3',\n",
       "  'creator': {'email': 'masha.geo@gmail.com'},\n",
       "  'start': {'dateTime': '2020-09-02T15:00:00-04:00',\n",
       "   'timeZone': 'America/New_York'},\n",
       "  'end': {'dateTime': '2020-09-02T16:30:00-04:00',\n",
       "   'timeZone': 'America/New_York'},\n",
       "  'recurrence': ['RRULE:FREQ=WEEKLY;WKST=SU;UNTIL=20201217T045959Z;BYDAY=MO,WE'],\n",
       "  'sequence': 0,\n",
       "  'reminders': {'useDefault': True}},\n",
       " 'B1.2 Deutsch': {'kind': 'calendar#event',\n",
       "  'status': 'confirmed',\n",
       "  'created': '2020-09-01T02:22:16.000Z',\n",
       "  'updated': '2020-09-01T02:22:16.381Z',\n",
       "  'summary': 'B1.2 Deutsch',\n",
       "  'colorId': '11',\n",
       "  'creator': {'email': 'masha.geo@gmail.com'},\n",
       "  'start': {'dateTime': '2020-09-19T13:00:00-04:00',\n",
       "   'timeZone': 'America/New_York'},\n",
       "  'end': {'dateTime': '2020-09-19T15:30:00-04:00',\n",
       "   'timeZone': 'America/New_York'},\n",
       "  'recurrence': ['RRULE:FREQ=WEEKLY;WKST=SU;COUNT=10;BYDAY=SA'],\n",
       "  'sequence': 0,\n",
       "  'reminders': {'useDefault': True}},\n",
       " '6.0001 rec': {'kind': 'calendar#event',\n",
       "  'status': 'confirmed',\n",
       "  'created': '2020-09-01T02:24:36.000Z',\n",
       "  'updated': '2020-09-13T22:38:51.808Z',\n",
       "  'summary': '6.0001 rec',\n",
       "  'colorId': '3',\n",
       "  'creator': {'email': 'masha.geo@gmail.com'},\n",
       "  'start': {'dateTime': '2020-09-18T11:00:00-04:00',\n",
       "   'timeZone': 'America/New_York'},\n",
       "  'end': {'dateTime': '2020-09-18T12:00:00-04:00',\n",
       "   'timeZone': 'America/New_York'},\n",
       "  'originalStartTime': {'dateTime': '2020-09-18T13:00:00-04:00',\n",
       "   'timeZone': 'America/New_York'},\n",
       "  'sequence': 1,\n",
       "  'reminders': {'useDefault': True}},\n",
       " '11.S03': {'kind': 'calendar#event',\n",
       "  'status': 'confirmed',\n",
       "  'created': '2020-09-01T02:28:06.000Z',\n",
       "  'updated': '2020-09-02T13:40:58.333Z',\n",
       "  'summary': '11.S03',\n",
       "  'description': 'https:\\u200b//<a href=\"http://mit.zoom.us/j/94567146486\">mit.zoom.us/j/94567146486</a>',\n",
       "  'colorId': '2',\n",
       "  'creator': {'email': 'masha.geo@gmail.com'},\n",
       "  'start': {'dateTime': '2020-09-03T11:00:00-04:00',\n",
       "   'timeZone': 'America/New_York'},\n",
       "  'end': {'dateTime': '2020-09-03T12:30:00-04:00',\n",
       "   'timeZone': 'America/New_York'},\n",
       "  'recurrence': ['RRULE:FREQ=WEEKLY;WKST=SU;UNTIL=20201218T045959Z;BYDAY=TH'],\n",
       "  'sequence': 0,\n",
       "  'reminders': {'useDefault': True}},\n",
       " '8.022 rec': {'kind': 'calendar#event',\n",
       "  'status': 'confirmed',\n",
       "  'created': '2020-09-02T14:51:12.000Z',\n",
       "  'updated': '2020-09-02T14:51:12.612Z',\n",
       "  'summary': '8.022 rec',\n",
       "  'description': 'https://mit.zoom.us/j/96644804125',\n",
       "  'colorId': '9',\n",
       "  'creator': {'email': 'masha.geo@gmail.com'},\n",
       "  'start': {'dateTime': '2020-09-02T14:00:00-04:00',\n",
       "   'timeZone': 'America/New_York'},\n",
       "  'end': {'dateTime': '2020-09-02T15:00:00-04:00',\n",
       "   'timeZone': 'America/New_York'},\n",
       "  'recurrence': ['RRULE:FREQ=WEEKLY;WKST=MO;UNTIL=20201217T045959Z;BYDAY=MO,WE'],\n",
       "  'sequence': 0,\n",
       "  'reminders': {'useDefault': True}},\n",
       " '18.03 lec': {'kind': 'calendar#event',\n",
       "  'status': 'confirmed',\n",
       "  'created': '2020-08-31T17:28:18.000Z',\n",
       "  'updated': '2020-09-02T17:01:17.981Z',\n",
       "  'summary': '18.03 lec',\n",
       "  'description': '<a href=\"https://mit.zoom.us/j/92842002113\">https://mit.zoom.us/j/92842002113</a>',\n",
       "  'colorId': '7',\n",
       "  'creator': {'email': 'masha.geo@gmail.com'},\n",
       "  'start': {'dateTime': '2020-09-02T13:00:00-04:00',\n",
       "   'timeZone': 'America/New_York'},\n",
       "  'end': {'dateTime': '2020-09-02T14:00:00-04:00',\n",
       "   'timeZone': 'America/New_York'},\n",
       "  'recurrence': ['RRULE:FREQ=WEEKLY;WKST=SU;UNTIL=20201217T045959Z;BYDAY=MO,WE'],\n",
       "  'sequence': 0,\n",
       "  'reminders': {'useDefault': True}},\n",
       " '18.03 rec': {'kind': 'calendar#event',\n",
       "  'status': 'confirmed',\n",
       "  'created': '2020-09-01T02:18:24.000Z',\n",
       "  'updated': '2020-09-03T20:15:54.169Z',\n",
       "  'summary': '18.03 rec',\n",
       "  'description': 'https://mit.zoom.us/j/93690098353?pwd=cFlwSmVvcGhPU0cyWDArK0E4TXV0Zz09',\n",
       "  'colorId': '7',\n",
       "  'creator': {'email': 'masha.geo@gmail.com'},\n",
       "  'start': {'dateTime': '2020-09-03T16:00:00-04:00',\n",
       "   'timeZone': 'America/New_York'},\n",
       "  'end': {'dateTime': '2020-09-03T17:00:00-04:00',\n",
       "   'timeZone': 'America/New_York'},\n",
       "  'recurrence': ['RRULE:FREQ=WEEKLY;WKST=SU;UNTIL=20201218T045959Z;BYDAY=TH,TU'],\n",
       "  'sequence': 0,\n",
       "  'reminders': {'useDefault': True}},\n",
       " 'Tutmonda': {'kind': 'calendar#event',\n",
       "  'status': 'confirmed',\n",
       "  'created': '2020-09-01T02:20:38.000Z',\n",
       "  'updated': '2020-09-03T21:01:03.633Z',\n",
       "  'summary': 'Tutmonda',\n",
       "  'description': '<a href=\"https://mit.zoom.us/j/92827157161?pwd=dE4zY1BiTzNUdERnaU1OYk0vNHE4QT09\">https://mit.zoom.us/j/92827157161?pwd=dE4zY1BiTzNUdERnaU1OYk0vNHE4QT09</a>',\n",
       "  'colorId': '11',\n",
       "  'creator': {'email': 'masha.geo@gmail.com'},\n",
       "  'start': {'dateTime': '2020-09-03T17:00:00-04:00'},\n",
       "  'end': {'dateTime': '2020-09-03T18:30:00-04:00'},\n",
       "  'originalStartTime': {'dateTime': '2020-09-10T17:00:00-04:00'},\n",
       "  'sequence': 1,\n",
       "  'reminders': {'useDefault': True}},\n",
       " '4.001': {'kind': 'calendar#event',\n",
       "  'status': 'confirmed',\n",
       "  'created': '2020-09-01T02:25:32.000Z',\n",
       "  'updated': '2020-09-16T19:12:33.683Z',\n",
       "  'summary': '4.001',\n",
       "  'description': '<a href=\"https://mit.zoom.us/j/92376630318\">https://mit.zoom.us/j/92376630318</a>',\n",
       "  'colorId': '2',\n",
       "  'creator': {'email': 'masha.geo@gmail.com'},\n",
       "  'start': {'dateTime': '2020-09-04T15:00:00-04:00',\n",
       "   'timeZone': 'America/New_York'},\n",
       "  'end': {'dateTime': '2020-09-04T17:00:00-04:00',\n",
       "   'timeZone': 'America/New_York'},\n",
       "  'recurrence': ['RRULE:FREQ=WEEKLY;WKST=SU;UNTIL=20201219T045959Z;BYDAY=FR'],\n",
       "  'sequence': 0,\n",
       "  'reminders': {'useDefault': True}},\n",
       " '21G.058': {'kind': 'calendar#event',\n",
       "  'status': 'confirmed',\n",
       "  'created': '2020-08-31T17:30:25.000Z',\n",
       "  'updated': '2020-09-18T06:56:17.674Z',\n",
       "  'summary': '21G.058',\n",
       "  'description': '<a href=\"https://mit.zoom.us/j/92546908850\">https://mit.zoom.us/j/92546908850</a>',\n",
       "  'colorId': '11',\n",
       "  'creator': {'email': 'masha.geo@gmail.com'},\n",
       "  'start': {'dateTime': '2020-09-01T14:30:00-04:00',\n",
       "   'timeZone': 'America/New_York'},\n",
       "  'end': {'dateTime': '2020-09-01T16:00:00-04:00',\n",
       "   'timeZone': 'America/New_York'},\n",
       "  'recurrence': ['RRULE:FREQ=WEEKLY;WKST=SU;UNTIL=20200917T183000Z;BYDAY=TH,TU'],\n",
       "  'transparency': 'transparent',\n",
       "  'sequence': 1,\n",
       "  'reminders': {'useDefault': False}},\n",
       " '8.022 lec': {'kind': 'calendar#event',\n",
       "  'status': 'confirmed',\n",
       "  'created': '2020-09-01T02:31:12.000Z',\n",
       "  'updated': '2020-09-18T06:56:22.787Z',\n",
       "  'summary': '8.022 lec',\n",
       "  'description': '<a href=\"https://mit.zoom.us/j/97802022420?\">https://mit.zoom.us/j/97802022420?</a>',\n",
       "  'colorId': '9',\n",
       "  'creator': {'email': 'masha.geo@gmail.com'},\n",
       "  'start': {'dateTime': '2020-09-01T14:00:00-04:00',\n",
       "   'timeZone': 'America/New_York'},\n",
       "  'end': {'dateTime': '2020-09-01T14:30:00-04:00',\n",
       "   'timeZone': 'America/New_York'},\n",
       "  'recurrence': ['RRULE:FREQ=WEEKLY;UNTIL=20200917T180000Z;BYDAY=TH,TU'],\n",
       "  'sequence': 0,\n",
       "  'reminders': {'useDefault': False}}}"
      ]
     },
     "execution_count": 17,
     "metadata": {},
     "output_type": "execute_result"
    }
   ],
   "source": [
    "event_dic"
   ]
  },
  {
   "cell_type": "code",
   "execution_count": 21,
   "metadata": {},
   "outputs": [],
   "source": [
    "#create a new calendar, and then we'll add events to it directly\n",
    "home_tz = pytz.timezone('Europe/Moscow') #switch to user input later\n",
    "newcalendar = {'summary': 'new_test_calendar','timeZone': 'Europe/Moscow'} #need to change cal name lol\n",
    "\n",
    "created_calendar = service.calendars().insert(body=newcalendar).execute()\n",
    "\n",
    "new_calendar_id = created_calendar['id']"
   ]
  },
  {
   "cell_type": "code",
   "execution_count": 22,
   "metadata": {},
   "outputs": [],
   "source": [
    "school_tz = pytz.timezone('America/New_York')"
   ]
  },
  {
   "cell_type": "code",
   "execution_count": 23,
   "metadata": {},
   "outputs": [],
   "source": [
    "#first, sort the events by synchronicity\n",
    "synch = [course[0] for course in user_dic.items() if course[1]['sync']==2]\n",
    "semisynch = [course[0] for course in user_dic.items() if course[1]['sync']==1]\n",
    "asynch = [course[0] for course in user_dic.items() if course[1]['sync']==0]\n",
    " "
   ]
  },
  {
   "cell_type": "code",
   "execution_count": 27,
   "metadata": {},
   "outputs": [],
   "source": [
    "def freebusy():\n",
    "    dt1 = home_tz.localize(dt(2020, 9, 21, 12))\n",
    "    dt2 = home_tz.localize(dt(2020, 9, 22, 12))\n",
    "    body = {\"kind\":\"calendar#freeBusy\",\n",
    "      \"timeMin\": dt1.isoformat(), #need tp have it do next monday to next sunday\n",
    "      \"timeMax\": dt2.isoformat(),\n",
    "      \"timeZone\": 'Europe/Moscow',\n",
    "      \"items\": [\n",
    "        {\n",
    "          \"id\": new_calendar_id\n",
    "        }\n",
    "      ]\n",
    "    }\n",
    "\n",
    "    free = service.freebusy().query(body=body).execute()\n",
    "    return free"
   ]
  },
  {
   "cell_type": "code",
   "execution_count": 25,
   "metadata": {},
   "outputs": [
    {
     "name": "stdout",
     "output_type": "stream",
     "text": [
      "4.A01\n",
      "B1.2 Deutsch\n",
      "11.S03\n",
      "8.022 rec\n",
      "18.03 rec\n",
      "Tutmonda\n",
      "4.001\n",
      "21G.058\n"
     ]
    }
   ],
   "source": [
    "#first, create the events for the completely synchronous classes\n",
    "\n",
    "for name in synch:\n",
    "    print(name)\n",
    "    service.events().insert(calendarId=new_calendar_id, body=event_dic[name]).execute()\n"
   ]
  },
  {
   "cell_type": "code",
   "execution_count": null,
   "metadata": {},
   "outputs": [],
   "source": [
    "def force_freebusy():\n",
    "    try:\n",
    "        free = freebusy()\n",
    "    except HttpError:\n",
    "        try:\n",
    "            free = freebusy()\n",
    "        except HttpError:\n",
    "            try:\n",
    "                free = freebusy()\n",
    "            except HttpError:\n",
    "                free = freebusy()\n"
   ]
  },
  {
   "cell_type": "code",
   "execution_count": 28,
   "metadata": {
    "scrolled": true
   },
   "outputs": [],
   "source": [
    "free = freebusy()"
   ]
  },
  {
   "cell_type": "code",
   "execution_count": 29,
   "metadata": {
    "scrolled": true
   },
   "outputs": [
    {
     "name": "stdout",
     "output_type": "stream",
     "text": [
      "How many hours would you like to sleep? 7\n",
      "Are you a morning person (0) or a night owl (1)? (enter 0 or 1) 0\n"
     ]
    }
   ],
   "source": [
    "sleep_time = int(input(\"How many hours would you like to sleep? \"))\n",
    "time_of_day = int(input(\"Are you a morning person (0) or a night owl (1)? (enter 0 or 1) \"))"
   ]
  },
  {
   "cell_type": "code",
   "execution_count": null,
   "metadata": {},
   "outputs": [],
   "source": [
    "free"
   ]
  },
  {
   "cell_type": "code",
   "execution_count": 30,
   "metadata": {
    "scrolled": true
   },
   "outputs": [
    {
     "name": "stdout",
     "output_type": "stream",
     "text": [
      "{'start': '2020-09-21T19:00:00+03:00', 'end': '2020-09-21T20:00:00+03:00'}\n",
      "{'start': '2020-09-21T21:00:00+03:00', 'end': '2020-09-21T22:00:00+03:00'}\n"
     ]
    }
   ],
   "source": [
    "#next, set a sleep time \n",
    "\n",
    "times_list = []\n",
    "class_starts = []\n",
    "class_ends = []\n",
    "for dic in free['calendars'][new_calendar_id]['busy']:\n",
    "    print(dic)\n",
    "    #get the intervals as datetime\n",
    "    times_list.append(dic['start'])\n",
    "    class_starts.append(dic['start'])\n",
    "    times_list.append(dic['end'])\n",
    "    class_ends.append(dic['end'])\n",
    "    \n",
    "times_list.sort()\n",
    "times_list = [dt.strptime(time[0:-6],'%Y-%m-%dT%H:%M:%S') for time in times_list]\n",
    "#class_starts = [dt.strptime(time[0:-6],'%Y-%m-%dT%H:%M:%S') for time in class_starts]\n",
    "#class_ends = [dt.strptime(time[0:-6],'%Y-%m-%dT%H:%M:%S') for time in class_ends]\n",
    "class_starts = [int(time[11:13]) for time in class_starts]\n",
    "class_ends = [int(time[11:13]) for time in class_ends]\n",
    "\n",
    "try:\n",
    "    latest_class = max(i for i in class_ends if i <= 5) \n",
    "except:\n",
    "    latest_class = max(class_ends)\n",
    "\n",
    "earliest_class = min(i for i in class_starts if i >= 5)\n",
    "\n",
    "\n",
    "def make_sleep_event():\n",
    "    event = { #need to add recurrence!\n",
    "          'summary': 'Sleept',\n",
    "          'description': 'zzzzzz', \n",
    "        'recurrence': ['RRULE:FREQ=DAILY'],\n",
    "          'start': {\n",
    "            'dateTime': start_datetime.isoformat(),\n",
    "            'timeZone': 'Europe/Moscow',\n",
    "          },\n",
    "          'end': {\n",
    "            'dateTime': stop_datetime.isoformat(),\n",
    "            'timeZone': 'Europe/Moscow',\n",
    "          }\n",
    "        }\n",
    "    event = service.events().insert(calendarId=new_calendar_id, body=event).execute()\n",
    "       \n",
    "if time_of_day == 0: #if morning person\n",
    "    #find the sleep start time that's 10 pm or 1 hr after your last class, whichever is earlier\n",
    "    if latest_class <= 21 and latest_class >= 12:\n",
    "        #sleep at 22\n",
    "        start_datetime = dt(2020, 9, 21, 22)\n",
    "        stop_datetime = dt(2020, 9, 22, (22+sleep_time)%24)\n",
    "        make_sleep_event()\n",
    "    else:\n",
    "        #sleep at latest_class+1\n",
    "        if latest_class <= 5:\n",
    "            start_datetime = dt(2020, 9, 22, latest_class+1) #this would be so much easier achieved w datetimes ngl\n",
    "        else:\n",
    "            start_datetime = dt(2020, 9, 21, latest_class+1)             \n",
    "        stop_datetime = dt(2020, 9, 22, (latest_class+1+sleep_time)%24)\n",
    "        make_sleep_event()\n",
    "else: #if night owl\n",
    "    #find the sleep start that ends at 12 pm or an hour before earliest class, whichever is later\n",
    "    if earliest_class >= 13:\n",
    "        #sleep until 12\n",
    "        start_datetime = dt(2020, 9, 22, 12-sleep_time)\n",
    "        stop_datetime = dt(2020, 9, 22, 12)\n",
    "        make_sleep_event()\n",
    "    else:\n",
    "        start_datetime = dt(2020, 9, 22, earliest_class-1-sleep_time)\n",
    "        stop_datetime = dt(2020, 9, 22, earliest_class-1)\n",
    "        make_sleep_event()\n",
    "    \n"
   ]
  },
  {
   "cell_type": "code",
   "execution_count": null,
   "metadata": {},
   "outputs": [],
   "source": [
    "#test\n",
    "#dt.strptime(time[0:-6],'%Y-%m-%dT%H:%M:%S')\n",
    "dt.strptime('2020-09-21T19:00:00+03:00'[0:-6],'%Y-%m-%dT%H:%M:%S')"
   ]
  },
  {
   "cell_type": "code",
   "execution_count": null,
   "metadata": {},
   "outputs": [],
   "source": [
    "free"
   ]
  },
  {
   "cell_type": "code",
   "execution_count": null,
   "metadata": {},
   "outputs": [],
   "source": [
    "#now, check if you can make the half synch (1) classes work using freebusy method\n",
    "\n",
    "#free = freebusy()\n"
   ]
  },
  {
   "cell_type": "code",
   "execution_count": 32,
   "metadata": {},
   "outputs": [
    {
     "name": "stdout",
     "output_type": "stream",
     "text": [
      "6.0001 lec\n",
      "{'dateTime': '2020-09-02T15:00:00-04:00', 'timeZone': 'America/New_York'} {'dateTime': '2020-09-02T16:30:00-04:00', 'timeZone': 'America/New_York'}\n",
      "2020-09-21 15:00:00-04:00 2020-09-21 16:30:00-04:00\n",
      "6.0001 rec\n",
      "{'dateTime': '2020-09-18T11:00:00-04:00', 'timeZone': 'America/New_York'} {'dateTime': '2020-09-18T12:00:00-04:00', 'timeZone': 'America/New_York'}\n",
      "2020-09-21 11:00:00-04:00 2020-09-21 12:00:00-04:00\n"
     ]
    }
   ],
   "source": [
    "#schedule as many as you can to be synch\n",
    "\n",
    "for name in semisynch:\n",
    "    print(name)\n",
    "    print(event_dic[name]['start'], event_dic[name]['end'])\n",
    "    start_time = str(event_dic[name]['start']['dateTime'])[11:16]\n",
    "    end_time = str(event_dic[name]['end']['dateTime'])[11:16]\n",
    "    \n",
    "    free = {}\n",
    "    we_good = True\n",
    "    for i in range(21,22):\n",
    "        #test that yuo're not busy any day at that time\n",
    "        dt1 = school_tz.localize(dt(2020, 9, i, int(start_time[0:2]), int(start_time[3:5])))\n",
    "        dt2 = school_tz.localize(dt(2020, 9, i, int(end_time[0:2]), int(end_time[3:5])))\n",
    "        print(dt1,dt2)\n",
    "        body = {\"kind\":\"calendar#freeBusy\",\n",
    "          \"timeMin\": dt1.isoformat(), #need tp have it do next monday to next sunday\n",
    "          \"timeMax\": dt2.isoformat(),\n",
    "          \"timeZone\": 'America/New_York',\n",
    "          \"items\": [\n",
    "            {\n",
    "              \"id\": new_calendar_id\n",
    "            }\n",
    "          ]\n",
    "        }\n",
    "\n",
    "        free = service.freebusy().query(body=body).execute()\n",
    "        \n",
    "        if not free['calendars'][new_calendar_id]['busy']==[]:\n",
    "            asynch.append(name)\n",
    "            we_good = False\n",
    "            break\n",
    "    \n",
    "    if we_good:\n",
    "        service.events().insert(calendarId=new_calendar_id, body=event_dic[name]).execute()\n"
   ]
  },
  {
   "cell_type": "code",
   "execution_count": null,
   "metadata": {
    "scrolled": true
   },
   "outputs": [],
   "source": [
    "#finally, schedule in the rest of the asynch classes\n",
    "asynch.append('8.022 lec')\n"
   ]
  },
  {
   "cell_type": "code",
   "execution_count": null,
   "metadata": {},
   "outputs": [],
   "source": [
    "asynch"
   ]
  },
  {
   "cell_type": "code",
   "execution_count": null,
   "metadata": {},
   "outputs": [],
   "source": []
  },
  {
   "cell_type": "code",
   "execution_count": null,
   "metadata": {},
   "outputs": [],
   "source": [
    "#test\n",
    "(datetime.datetime(2020, 9, 21, 21).isoformat())"
   ]
  },
  {
   "cell_type": "code",
   "execution_count": null,
   "metadata": {},
   "outputs": [],
   "source": [
    "free['calendars'][new_calendar_id]['busy']"
   ]
  },
  {
   "cell_type": "code",
   "execution_count": null,
   "metadata": {},
   "outputs": [],
   "source": []
  }
 ],
 "metadata": {
  "kernelspec": {
   "display_name": "Python 3",
   "language": "python",
   "name": "python3"
  },
  "language_info": {
   "codemirror_mode": {
    "name": "ipython",
    "version": 3
   },
   "file_extension": ".py",
   "mimetype": "text/x-python",
   "name": "python",
   "nbconvert_exporter": "python",
   "pygments_lexer": "ipython3",
   "version": "3.8.3"
  }
 },
 "nbformat": 4,
 "nbformat_minor": 4
}
